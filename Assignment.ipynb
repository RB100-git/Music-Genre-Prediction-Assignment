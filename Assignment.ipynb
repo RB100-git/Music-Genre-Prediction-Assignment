{
  "nbformat": 4,
  "nbformat_minor": 0,
  "metadata": {
    "colab": {
      "name": "Assignment",
      "provenance": [],
      "collapsed_sections": []
    },
    "kernelspec": {
      "name": "python3",
      "display_name": "Python 3"
    },
    "language_info": {
      "name": "python"
    }
  },
  "cells": [
    {
      "cell_type": "markdown",
      "source": [
        "Assignment-**APTCODER**"
      ],
      "metadata": {
        "id": "cMQOb6d3bklp"
      }
    },
    {
      "cell_type": "markdown",
      "source": [
        "Importing modules"
      ],
      "metadata": {
        "id": "7AZD4HFdaxZ_"
      }
    },
    {
      "cell_type": "code",
      "execution_count": 146,
      "metadata": {
        "id": "m6R3dk34slgq"
      },
      "outputs": [],
      "source": [
        "import pandas as pd\n",
        "import numpy as np\n",
        "from sklearn import linear_model\n",
        "from sklearn.model_selection import train_test_split\n",
        "from sklearn.linear_model import LogisticRegression\n",
        "from sklearn.tree import DecisionTreeClassifier\n",
        "from sklearn.ensemble import RandomForestClassifier\n",
        "from sklearn.naive_bayes import BernoulliNB \n",
        "from sklearn.neighbors import KNeighborsClassifier\n",
        "from sklearn.metrics import classification_report\n",
        "from sklearn.model_selection import cross_val_score\n",
        "from sklearn.metrics import confusion_matrix, accuracy_score\n",
        "from sklearn.svm import SVC\n",
        "import warnings\n",
        "warnings.filterwarnings('ignore')"
      ]
    },
    {
      "cell_type": "markdown",
      "source": [
        "Load the dataset"
      ],
      "metadata": {
        "id": "9aqEUwnkbyMh"
      }
    },
    {
      "cell_type": "code",
      "source": [
        "data = pd.read_csv(\"/content/music.csv\")\n",
        "data.head()"
      ],
      "metadata": {
        "colab": {
          "base_uri": "https://localhost:8080/",
          "height": 206
        },
        "id": "ezad6VVNtk2J",
        "outputId": "198461b0-194f-45f3-8b63-56b99f311bcf"
      },
      "execution_count": 147,
      "outputs": [
        {
          "output_type": "execute_result",
          "data": {
            "text/plain": [
              "   age  gender   genre\n",
              "0   20       1  HipHop\n",
              "1   23       1  HipHop\n",
              "2   25       1  HipHop\n",
              "3   26       1    Jazz\n",
              "4   29       1    Jazz"
            ],
            "text/html": [
              "\n",
              "  <div id=\"df-4f1bc3d6-6905-4834-bf74-acf9940090c1\">\n",
              "    <div class=\"colab-df-container\">\n",
              "      <div>\n",
              "<style scoped>\n",
              "    .dataframe tbody tr th:only-of-type {\n",
              "        vertical-align: middle;\n",
              "    }\n",
              "\n",
              "    .dataframe tbody tr th {\n",
              "        vertical-align: top;\n",
              "    }\n",
              "\n",
              "    .dataframe thead th {\n",
              "        text-align: right;\n",
              "    }\n",
              "</style>\n",
              "<table border=\"1\" class=\"dataframe\">\n",
              "  <thead>\n",
              "    <tr style=\"text-align: right;\">\n",
              "      <th></th>\n",
              "      <th>age</th>\n",
              "      <th>gender</th>\n",
              "      <th>genre</th>\n",
              "    </tr>\n",
              "  </thead>\n",
              "  <tbody>\n",
              "    <tr>\n",
              "      <th>0</th>\n",
              "      <td>20</td>\n",
              "      <td>1</td>\n",
              "      <td>HipHop</td>\n",
              "    </tr>\n",
              "    <tr>\n",
              "      <th>1</th>\n",
              "      <td>23</td>\n",
              "      <td>1</td>\n",
              "      <td>HipHop</td>\n",
              "    </tr>\n",
              "    <tr>\n",
              "      <th>2</th>\n",
              "      <td>25</td>\n",
              "      <td>1</td>\n",
              "      <td>HipHop</td>\n",
              "    </tr>\n",
              "    <tr>\n",
              "      <th>3</th>\n",
              "      <td>26</td>\n",
              "      <td>1</td>\n",
              "      <td>Jazz</td>\n",
              "    </tr>\n",
              "    <tr>\n",
              "      <th>4</th>\n",
              "      <td>29</td>\n",
              "      <td>1</td>\n",
              "      <td>Jazz</td>\n",
              "    </tr>\n",
              "  </tbody>\n",
              "</table>\n",
              "</div>\n",
              "      <button class=\"colab-df-convert\" onclick=\"convertToInteractive('df-4f1bc3d6-6905-4834-bf74-acf9940090c1')\"\n",
              "              title=\"Convert this dataframe to an interactive table.\"\n",
              "              style=\"display:none;\">\n",
              "        \n",
              "  <svg xmlns=\"http://www.w3.org/2000/svg\" height=\"24px\"viewBox=\"0 0 24 24\"\n",
              "       width=\"24px\">\n",
              "    <path d=\"M0 0h24v24H0V0z\" fill=\"none\"/>\n",
              "    <path d=\"M18.56 5.44l.94 2.06.94-2.06 2.06-.94-2.06-.94-.94-2.06-.94 2.06-2.06.94zm-11 1L8.5 8.5l.94-2.06 2.06-.94-2.06-.94L8.5 2.5l-.94 2.06-2.06.94zm10 10l.94 2.06.94-2.06 2.06-.94-2.06-.94-.94-2.06-.94 2.06-2.06.94z\"/><path d=\"M17.41 7.96l-1.37-1.37c-.4-.4-.92-.59-1.43-.59-.52 0-1.04.2-1.43.59L10.3 9.45l-7.72 7.72c-.78.78-.78 2.05 0 2.83L4 21.41c.39.39.9.59 1.41.59.51 0 1.02-.2 1.41-.59l7.78-7.78 2.81-2.81c.8-.78.8-2.07 0-2.86zM5.41 20L4 18.59l7.72-7.72 1.47 1.35L5.41 20z\"/>\n",
              "  </svg>\n",
              "      </button>\n",
              "      \n",
              "  <style>\n",
              "    .colab-df-container {\n",
              "      display:flex;\n",
              "      flex-wrap:wrap;\n",
              "      gap: 12px;\n",
              "    }\n",
              "\n",
              "    .colab-df-convert {\n",
              "      background-color: #E8F0FE;\n",
              "      border: none;\n",
              "      border-radius: 50%;\n",
              "      cursor: pointer;\n",
              "      display: none;\n",
              "      fill: #1967D2;\n",
              "      height: 32px;\n",
              "      padding: 0 0 0 0;\n",
              "      width: 32px;\n",
              "    }\n",
              "\n",
              "    .colab-df-convert:hover {\n",
              "      background-color: #E2EBFA;\n",
              "      box-shadow: 0px 1px 2px rgba(60, 64, 67, 0.3), 0px 1px 3px 1px rgba(60, 64, 67, 0.15);\n",
              "      fill: #174EA6;\n",
              "    }\n",
              "\n",
              "    [theme=dark] .colab-df-convert {\n",
              "      background-color: #3B4455;\n",
              "      fill: #D2E3FC;\n",
              "    }\n",
              "\n",
              "    [theme=dark] .colab-df-convert:hover {\n",
              "      background-color: #434B5C;\n",
              "      box-shadow: 0px 1px 3px 1px rgba(0, 0, 0, 0.15);\n",
              "      filter: drop-shadow(0px 1px 2px rgba(0, 0, 0, 0.3));\n",
              "      fill: #FFFFFF;\n",
              "    }\n",
              "  </style>\n",
              "\n",
              "      <script>\n",
              "        const buttonEl =\n",
              "          document.querySelector('#df-4f1bc3d6-6905-4834-bf74-acf9940090c1 button.colab-df-convert');\n",
              "        buttonEl.style.display =\n",
              "          google.colab.kernel.accessAllowed ? 'block' : 'none';\n",
              "\n",
              "        async function convertToInteractive(key) {\n",
              "          const element = document.querySelector('#df-4f1bc3d6-6905-4834-bf74-acf9940090c1');\n",
              "          const dataTable =\n",
              "            await google.colab.kernel.invokeFunction('convertToInteractive',\n",
              "                                                     [key], {});\n",
              "          if (!dataTable) return;\n",
              "\n",
              "          const docLinkHtml = 'Like what you see? Visit the ' +\n",
              "            '<a target=\"_blank\" href=https://colab.research.google.com/notebooks/data_table.ipynb>data table notebook</a>'\n",
              "            + ' to learn more about interactive tables.';\n",
              "          element.innerHTML = '';\n",
              "          dataTable['output_type'] = 'display_data';\n",
              "          await google.colab.output.renderOutput(dataTable, element);\n",
              "          const docLink = document.createElement('div');\n",
              "          docLink.innerHTML = docLinkHtml;\n",
              "          element.appendChild(docLink);\n",
              "        }\n",
              "      </script>\n",
              "    </div>\n",
              "  </div>\n",
              "  "
            ]
          },
          "metadata": {},
          "execution_count": 147
        }
      ]
    },
    {
      "cell_type": "markdown",
      "source": [
        "predictor(Age, Gender) and Target variable(genre)"
      ],
      "metadata": {
        "id": "nPeY6gfrb4NZ"
      }
    },
    {
      "cell_type": "code",
      "source": [
        "x = data.drop(columns=['genre'])\n",
        "y = data['genre']"
      ],
      "metadata": {
        "id": "u5pQXijEtlBW"
      },
      "execution_count": 148,
      "outputs": []
    },
    {
      "cell_type": "markdown",
      "source": [
        "As we have to classify different genres, we are performing Cross validation with all the classification algorithms to see mean accuracy"
      ],
      "metadata": {
        "id": "xctkbdOccDrI"
      }
    },
    {
      "cell_type": "code",
      "source": [
        "randomfor = RandomForestClassifier()\n",
        "logreg_cv = LogisticRegression(random_state=0)\n",
        "dt_cv=DecisionTreeClassifier()\n",
        "knn_cv=KNeighborsClassifier()\n",
        "svc_cv=SVC()\n",
        "nb_cv=BernoulliNB()\n",
        "cv_dict = {0: 'random forest', 1: 'Logistic Regression', 2: 'Decision Tree',3:'KNN',4:'SVC',5:'Naive Bayes'}\n",
        "cv_models=[randomfor,logreg_cv,dt_cv,knn_cv,svc_cv,nb_cv]\n",
        "\n",
        "\n",
        "for i,model in enumerate(cv_models):\n",
        "    print(\"{} Test Accuracy: {}\".format(cv_dict[i],cross_val_score(model, x, y, cv=6, scoring ='accuracy').mean()))"
      ],
      "metadata": {
        "colab": {
          "base_uri": "https://localhost:8080/"
        },
        "id": "dOaFlyd7cWqb",
        "outputId": "6bd93253-6206-4aef-919f-0abc579d12d5"
      },
      "execution_count": 149,
      "outputs": [
        {
          "output_type": "stream",
          "name": "stdout",
          "text": [
            "random forest Test Accuracy: 0.611111111111111\n",
            "Logistic Regression Test Accuracy: 0.6666666666666666\n",
            "Decision Tree Test Accuracy: 0.7777777777777778\n",
            "KNN Test Accuracy: 0.5\n",
            "SVC Test Accuracy: 0.3333333333333333\n",
            "Naive Bayes Test Accuracy: 0.0\n"
          ]
        }
      ]
    },
    {
      "cell_type": "markdown",
      "source": [
        "Though the accuracy of Decison Tree comes out much more than the rest of the algorithms, still we have to check for underfitting/overfitting individually for all"
      ],
      "metadata": {
        "id": "mO87NWdGc26M"
      }
    },
    {
      "cell_type": "code",
      "source": [
        "#splitting the data into 70:30\n",
        "x_train, x_test, y_train, y_test = train_test_split(x, y, test_size = 0.3, random_state=0)"
      ],
      "metadata": {
        "id": "wO6--ErkPA3o"
      },
      "execution_count": 150,
      "outputs": []
    },
    {
      "cell_type": "markdown",
      "source": [
        "**Random Forest**"
      ],
      "metadata": {
        "id": "Ztj6HlY2dlLr"
      }
    },
    {
      "cell_type": "code",
      "source": [
        "random = RandomForestClassifier(random_state=0)\n",
        "random.fit(x_train, y_train)\n",
        "y_pred = random.predict(x_test)\n",
        "print(\"Training set score: {:.4f}\".format(random.score(x_train,y_train)))\n",
        "print(\"Test set score: {:.4f}\".format(random.score(x_test,y_test)))"
      ],
      "metadata": {
        "colab": {
          "base_uri": "https://localhost:8080/"
        },
        "id": "3z5ow69mQNI2",
        "outputId": "351367d8-84cf-4dc6-8106-f901f8827fc1"
      },
      "execution_count": 153,
      "outputs": [
        {
          "output_type": "stream",
          "name": "stdout",
          "text": [
            "Training set score: 1.0000\n",
            "Test set score: 0.6667\n"
          ]
        }
      ]
    },
    {
      "cell_type": "markdown",
      "source": [
        "The above model shows 'Overfitting'"
      ],
      "metadata": {
        "id": "im7_9_JEdw5f"
      }
    },
    {
      "cell_type": "markdown",
      "source": [
        "**Decision Tree**"
      ],
      "metadata": {
        "id": "zV-tCRTQeV2Q"
      }
    },
    {
      "cell_type": "code",
      "source": [
        "dt=DecisionTreeClassifier(random_state=0)\n",
        "dt.fit(x_train, y_train)\n",
        "y_pred = dt.predict(x_test)\n",
        "print(\"Training set score: {:.4f}\".format(dt.score(x_train,y_train)))\n",
        "print(\"Test set score: {:.4f}\".format(dt.score(x_test,y_test)))"
      ],
      "metadata": {
        "colab": {
          "base_uri": "https://localhost:8080/"
        },
        "id": "_ndy8ZIseep3",
        "outputId": "93cd4ea1-64d4-4de0-cd76-32ff06057ca1"
      },
      "execution_count": 155,
      "outputs": [
        {
          "output_type": "stream",
          "name": "stdout",
          "text": [
            "Training set score: 1.0000\n",
            "Test set score: 1.0000\n"
          ]
        }
      ]
    },
    {
      "cell_type": "markdown",
      "source": [
        "Decision Tree 'overfitting'"
      ],
      "metadata": {
        "id": "EXavHjKOfCg6"
      }
    },
    {
      "cell_type": "markdown",
      "source": [
        "**K nearest neighbors**"
      ],
      "metadata": {
        "id": "46Y7IjiEfeuV"
      }
    },
    {
      "cell_type": "code",
      "source": [
        "knn=KNeighborsClassifier()\n",
        "knn.fit(x_train, y_train)\n",
        "y_pred = knn.predict(x_test)\n",
        "print(\"Training set score: {:.4f}\".format(knn.score(x_train,y_train)))\n",
        "print(\"Test set score: {:.4f}\".format(knn.score(x_test,y_test)))"
      ],
      "metadata": {
        "colab": {
          "base_uri": "https://localhost:8080/"
        },
        "id": "kmaNvIPmfSN_",
        "outputId": "929114c9-7596-4df5-b0fb-89b98a5acf14"
      },
      "execution_count": 156,
      "outputs": [
        {
          "output_type": "stream",
          "name": "stdout",
          "text": [
            "Training set score: 0.5833\n",
            "Test set score: 0.5000\n"
          ]
        }
      ]
    },
    {
      "cell_type": "markdown",
      "source": [
        "KNN can't grasp the features of the training model very well, as it is giving poor accuracy in Train and Test both. Let's see for the next...."
      ],
      "metadata": {
        "id": "QW8KLbYsfplE"
      }
    },
    {
      "cell_type": "markdown",
      "source": [
        "**Support Vector Classifier**"
      ],
      "metadata": {
        "id": "TH4pJXaogQmh"
      }
    },
    {
      "cell_type": "code",
      "source": [
        "svc=SVC(random_state=0)\n",
        "svc.fit(x_train, y_train)\n",
        "y_pred = svc.predict(x_test)\n",
        "print(\"Training set score: {:.4f}\".format(svc.score(x_train,y_train)))\n",
        "print(\"Test set score: {:.4f}\".format(svc.score(x_test,y_test)))"
      ],
      "metadata": {
        "colab": {
          "base_uri": "https://localhost:8080/"
        },
        "id": "NIC1p9gifSSf",
        "outputId": "27b524b6-b564-4697-9638-b34f1d47a355"
      },
      "execution_count": 157,
      "outputs": [
        {
          "output_type": "stream",
          "name": "stdout",
          "text": [
            "Training set score: 0.5000\n",
            "Test set score: 0.5000\n"
          ]
        }
      ]
    },
    {
      "cell_type": "markdown",
      "source": [
        "As same as KNN(almost)......."
      ],
      "metadata": {
        "id": "BFThlPrHgesQ"
      }
    },
    {
      "cell_type": "markdown",
      "source": [
        "**Naive Bayes Algorithm**"
      ],
      "metadata": {
        "id": "RtSNGCXwg5cq"
      }
    },
    {
      "cell_type": "code",
      "source": [
        "nb=BernoulliNB()\n",
        "nb.fit(x_train, y_train)\n",
        "y_pred = nb.predict(x_test)\n",
        "print(\"Training set score: {:.4f}\".format(nb.score(x_train,y_train)))\n",
        "print(\"Test set score: {:.4f}\".format(nb.score(x_test,y_test)))"
      ],
      "metadata": {
        "colab": {
          "base_uri": "https://localhost:8080/"
        },
        "id": "zzBumz_UhDRa",
        "outputId": "f8f4a991-4e94-4239-ff1d-d5e0156c153a"
      },
      "execution_count": 159,
      "outputs": [
        {
          "output_type": "stream",
          "name": "stdout",
          "text": [
            "Training set score: 0.4167\n",
            "Test set score: 0.1667\n"
          ]
        }
      ]
    },
    {
      "cell_type": "markdown",
      "source": [
        "The accuracy of the above model is very low....."
      ],
      "metadata": {
        "id": "blrwKYJqhQuj"
      }
    },
    {
      "cell_type": "markdown",
      "source": [
        "**Logistic Regression**"
      ],
      "metadata": {
        "id": "5xgyF6aygn8Y"
      }
    },
    {
      "cell_type": "code",
      "source": [
        "logreg = LogisticRegression(random_state=0)\n",
        "logreg.fit(x_train, y_train)\n",
        "y_pred = logreg.predict(x_test)\n",
        "print(\"Training set score: {:.4f}\".format(logreg.score(x_train,y_train)))\n",
        "print(\"Test set score: {:.4f}\".format(logreg.score(x_test,y_test)))"
      ],
      "metadata": {
        "colab": {
          "base_uri": "https://localhost:8080/"
        },
        "id": "FD7SsTdeQqqA",
        "outputId": "b1adcc4c-972c-4a18-94a3-52443f636a6e"
      },
      "execution_count": 160,
      "outputs": [
        {
          "output_type": "stream",
          "name": "stdout",
          "text": [
            "Training set score: 0.9167\n",
            "Test set score: 0.8333\n"
          ]
        }
      ]
    },
    {
      "cell_type": "markdown",
      "source": [
        "**Well, Logistic Regression acts as a good fit for the dataset. So, we are choosing logistic Regression for model building........**"
      ],
      "metadata": {
        "id": "CECVRnuLhZ0a"
      }
    },
    {
      "cell_type": "markdown",
      "source": [
        "**Confusion Matrix on Test data for Logistic Regression model**"
      ],
      "metadata": {
        "id": "7EIFe2oXiY5A"
      }
    },
    {
      "cell_type": "code",
      "source": [
        "cm = confusion_matrix(y_test,y_pred)\n",
        "\n",
        "##Generating heatmap to visualize the confusion matrix\n",
        "ax = sns.heatmap(cm, annot=True, cmap='Blues', fmt=\".1f\")\n",
        "\n",
        "##Setting up the title and Labels\n",
        "ax.set_title('Confusion Matrix with labels\\n\\n');\n",
        "ax.set_xlabel('\\n  predicted Category')\n",
        "ax.set_ylabel('Actual Category ');\n",
        "\n",
        "##Ticket labels - List must be in alphabetical order\n",
        "ax.xaxis.set_ticklabels(['Acoustic','Classical', 'Dance', 'HipHop', 'Jazz'])\n",
        "ax.yaxis.set_ticklabels(['Acoustic','Classical', 'Dance', 'HipHop', 'Jazz'])\n",
        "plt.show()"
      ],
      "metadata": {
        "colab": {
          "base_uri": "https://localhost:8080/",
          "height": 337
        },
        "id": "UKAeucZ5UmGa",
        "outputId": "b620ff67-0e9b-4bc0-d240-c044f9c3fb5e"
      },
      "execution_count": 161,
      "outputs": [
        {
          "output_type": "display_data",
          "data": {
            "text/plain": [
              "<Figure size 432x288 with 2 Axes>"
            ],
            "image/png": "[encoded data removed]"
          },
          "metadata": {
            "needs_background": "light"
          }
        }
      ]
    },
    {
      "cell_type": "markdown",
      "source": [
        "**Classification Report**"
      ],
      "metadata": {
        "id": "IlxEpci4jPg6"
      }
    },
    {
      "cell_type": "code",
      "source": [
        "print(\"Classification Report:\\n\",classification_report(y_test, y_pred))"
      ],
      "metadata": {
        "colab": {
          "base_uri": "https://localhost:8080/"
        },
        "id": "nqn-OyrdtlaX",
        "outputId": "c6c59ec5-f1b5-40a5-973b-4f82bc5ef56b"
      },
      "execution_count": 162,
      "outputs": [
        {
          "output_type": "stream",
          "name": "stdout",
          "text": [
            "Classification Report:\n",
            "               precision    recall  f1-score   support\n",
            "\n",
            "    Acoustic       0.00      0.00      0.00         1\n",
            "   Classical       0.67      1.00      0.80         2\n",
            "       Dance       1.00      1.00      1.00         1\n",
            "      HipHop       1.00      1.00      1.00         1\n",
            "        Jazz       1.00      1.00      1.00         1\n",
            "\n",
            "    accuracy                           0.83         6\n",
            "   macro avg       0.73      0.80      0.76         6\n",
            "weighted avg       0.72      0.83      0.77         6\n",
            "\n"
          ]
        }
      ]
    },
    {
      "cell_type": "markdown",
      "source": [
        "**Save the model**"
      ],
      "metadata": {
        "id": "s2xgGU4ojlnA"
      }
    },
    {
      "cell_type": "code",
      "source": [
        "#persisting a model and saving it to a file\n",
        "import joblib\n",
        "joblib.dump(logreg, 'genre_prediction.joblib')"
      ],
      "metadata": {
        "colab": {
          "base_uri": "https://localhost:8080/"
        },
        "id": "tmZPO46SWL9x",
        "outputId": "c9400b46-e51f-4767-b67e-a881be9f1ac7"
      },
      "execution_count": 163,
      "outputs": [
        {
          "output_type": "execute_result",
          "data": {
            "text/plain": [
              "['genre_prediction.joblib']"
            ]
          },
          "metadata": {},
          "execution_count": 163
        }
      ]
    },
    {
      "cell_type": "markdown",
      "source": [
        "**Prediction making.....**"
      ],
      "metadata": {
        "id": "7r__uTw9jp-_"
      }
    },
    {
      "cell_type": "code",
      "source": [
        "model1 = joblib.load('genre_prediction.joblib')\n",
        "predictions = model1.predict([[28,0]])\n",
        "predictions[0]"
      ],
      "metadata": {
        "colab": {
          "base_uri": "https://localhost:8080/",
          "height": 35
        },
        "id": "-mypv46YWlRr",
        "outputId": "d4f0f32c-339f-4887-bd57-b04d68f34087"
      },
      "execution_count": 164,
      "outputs": [
        {
          "output_type": "execute_result",
          "data": {
            "text/plain": [
              "'Acoustic'"
            ],
            "application/vnd.google.colaboratory.intrinsic+json": {
              "type": "string"
            }
          },
          "metadata": {},
          "execution_count": 164
        }
      ]
    },
    {
      "cell_type": "markdown",
      "source": [
        "**Thank You !!!**"
      ],
      "metadata": {
        "id": "fMAXwzzajxDi"
      }
    }
  ]
}